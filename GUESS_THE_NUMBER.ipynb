{
 "metadata": {
  "language_info": {
   "codemirror_mode": {
    "name": "ipython",
    "version": 3
   },
   "file_extension": ".py",
   "mimetype": "text/x-python",
   "name": "python",
   "nbconvert_exporter": "python",
   "pygments_lexer": "ipython3",
   "version": "3.8.3-final"
  },
  "orig_nbformat": 2,
  "kernelspec": {
   "name": "Python 3.8.3 64-bit",
   "display_name": "Python 3.8.3 64-bit",
   "metadata": {
    "interpreter": {
     "hash": "1baa965d5efe3ac65b79dfc60c0d706280b1da80fedb7760faf2759126c4f253"
    }
   }
  }
 },
 "nbformat": 4,
 "nbformat_minor": 2,
 "cells": [
  {
   "source": [
    "# GUESS THE NUMBER GAME"
   ],
   "cell_type": "markdown",
   "metadata": {}
  },
  {
   "cell_type": "code",
   "execution_count": 8,
   "metadata": {
    "tags": []
   },
   "outputs": [
    {
     "output_type": "stream",
     "name": "stdout",
     "text": "\nHello, Welcome to the game. \n What's your name?\n\nNice to see you N . \n In this game you will have to guess the number between 1 and 20.\n Remember you only has 6 chances to complete this game. \n Good luck!\n\nWrong Guess!, This was your 1  guess. Try again.\n\n The number you guess is less than the number you have to guess.\n\nWrong Guess!, This was your 2  guess. Try again.\n\n The number you guess is less than the number you have to guess.\n\nWrong Guess!, This was your 3  guess. Try again.\n\n The number you guess is less than the number you have to guess.\n\nWrong Guess!, This was your 4  guess. Try again.\n\n The number you guess is less than the number you have to guess.\n\nWrong Guess!, This was your 5  guess. Try again.\n\n The number you guess is greater than the number you have to guess.\n\nWrong Guess!, This was your 6  guess. Try again.\nYOU LOOSE THE GAME.\n"
    }
   ],
   "source": [
    "import random\n",
    "print(\"\\nHello, Welcome to the game. \\n What's your name?\")\n",
    "name=input()\n",
    "print(\"\\nNice to see you\",name,\". \\n In this game you will have to guess the number between 1 and 20.\\n Remember you only has 6 chances to complete this game. \\n Good luck!\")\n",
    "ran = random.randint(1,20)\n",
    "guess=0\n",
    "while(guess<6):\n",
    "    a=input()\n",
    "    if(a!=ran):\n",
    "        print(\"\\nWrong Guess!, This was your\",int(guess) + 1,\" guess. Try again.\")\n",
    "        if(int(a) < int(ran)):\n",
    "            print(\"\\n The number you guess is less than the number you have to guess.\")\n",
    "        elif(int(a) > int(ran)):\n",
    "            print(\"\\n The number you guess is greater than the number you have to guess.\")\n",
    "    elif(int(a) == int(ran)):\n",
    "        printf(\"CONGRATULATIONS!, YOU WON THE GAME.\")\n",
    "        print(\"\\nWell Played!, You guess the number in\", int(guess) + 1,\"guess.\")\n",
    "    guess=guess+1\n",
    "if(int(guess) == 6):\n",
    "    print(\"YOU LOOSE THE GAME.\")\n",
    "\n"
   ]
  },
  {
   "cell_type": "code",
   "execution_count": null,
   "metadata": {},
   "outputs": [],
   "source": []
  }
 ]
}